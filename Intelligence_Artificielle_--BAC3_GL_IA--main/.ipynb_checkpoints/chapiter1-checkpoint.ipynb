{
 "cells": [
  {
   "cell_type": "markdown",
   "id": "4c2e41d4-9d32-4975-8aad-86a7640c26e8",
   "metadata": {
    "panel-layout": {
     "height": 51.13541793823242,
     "visible": true,
     "width": 100
    }
   },
   "source": [
    "TABLEAU A UNE DIMENSION "
   ]
  },
  {
   "cell_type": "code",
   "execution_count": 3,
   "id": "5a8d725c-e41c-49e8-97bd-d9c13c8ca48a",
   "metadata": {
    "panel-layout": {
     "height": 0,
     "visible": true,
     "width": 100
    }
   },
   "outputs": [
    {
     "name": "stdout",
     "output_type": "stream",
     "text": [
      "le tableau à une dimension : [ 5  2  3 25 64]\n"
     ]
    }
   ],
   "source": [
    "import numpy as np\n",
    "\n",
    "tab_1D=np.array ([5, 2, 3, 25, 64])\n",
    "print (f\"le tableau à une dimension : {tab_1D}\")"
   ]
  },
  {
   "cell_type": "markdown",
   "id": "16820f15-f338-4470-ba7a-0bc502a334dd",
   "metadata": {
    "panel-layout": {
     "height": 51.13541793823242,
     "visible": true,
     "width": 100
    }
   },
   "source": [
    "TABLEAU A DEUX DIMENSIONS"
   ]
  },
  {
   "cell_type": "code",
   "execution_count": 5,
   "id": "e45f17db-7414-433d-a5f2-d1aa3a629685",
   "metadata": {
    "panel-layout": {
     "height": 0,
     "visible": true,
     "width": 100
    }
   },
   "outputs": [
    {
     "name": "stdout",
     "output_type": "stream",
     "text": [
      "le tableau à deux dimensions : [[ 5  2  3 25 64]\n",
      " [58  3  4 17 33]]\n"
     ]
    }
   ],
   "source": [
    "import numpy as np\n",
    "\n",
    "tab_2D=np.array ([\n",
    "    [5, 2, 3, 25, 64],\n",
    "    [58, 3, 4, 17, 33]\n",
    "])\n",
    "print (f\"le tableau à deux dimensions : {tab_2D}\")"
   ]
  },
  {
   "cell_type": "markdown",
   "id": "a06cb0fe-6c51-4a54-9a46-3336fd81f5ed",
   "metadata": {
    "panel-layout": {
     "height": 51.13541793823242,
     "visible": true,
     "width": 100
    }
   },
   "source": [
    "TABLEAU A 3 DIMENSIONS"
   ]
  },
  {
   "cell_type": "code",
   "execution_count": 7,
   "id": "7287e613-a93d-444b-8621-a5b3b8b4e606",
   "metadata": {
    "panel-layout": {
     "height": 0,
     "visible": true,
     "width": 100
    }
   },
   "outputs": [
    {
     "name": "stdout",
     "output_type": "stream",
     "text": [
      "le tableau à trois dimensions : [[[ 5  2  3 25 64]\n",
      "  [58  3  4 17 33]\n",
      "  [99 66 48 58 67]]]\n"
     ]
    }
   ],
   "source": [
    "import numpy as np\n",
    "\n",
    "tab_3D=np.array ([[\n",
    "    [5, 2, 3, 25, 64],\n",
    "    [58, 3, 4, 17, 33],\n",
    "    [99, 66, 48, 58, 67]\n",
    "]])\n",
    "print (f\"le tableau à trois dimensions : {tab_3D}\")"
   ]
  },
  {
   "cell_type": "code",
   "execution_count": 14,
   "id": "955fbf97-28af-4c84-be1c-307ce16ebf0f",
   "metadata": {
    "panel-layout": {
     "height": 0,
     "visible": true,
     "width": 100
    }
   },
   "outputs": [
    {
     "name": "stdout",
     "output_type": "stream",
     "text": [
      "le tableau à quatre dimensions : [[[[   19   256     3    25    43]\n",
      "   [   58   415     4    12    33]\n",
      "   [   99 64541    48    55    67]]]]\n"
     ]
    },
    {
     "data": {
      "text/plain": [
       "(1, 1, 3, 5)"
      ]
     },
     "execution_count": 14,
     "metadata": {},
     "output_type": "execute_result"
    }
   ],
   "source": [
    "import numpy as np\n",
    "\n",
    "tab_4D=np.array ([[[\n",
    "    [19, 256, 3, 25, 43],\n",
    "    [58, 415, 4, 12, 33],\n",
    "    [99, 64541, 48, 55, 67]\n",
    "]]])\n",
    "print (f\"le tableau à quatre dimensions : {tab_4D}\")\n",
    "tab_4D.shape"
   ]
  },
  {
   "cell_type": "code",
   "execution_count": 22,
   "id": "269d0c5a-80cc-43bd-8a29-e0db17966ac7",
   "metadata": {},
   "outputs": [
    {
     "name": "stdout",
     "output_type": "stream",
     "text": [
      "ADDITION : \n",
      "[[ 22  44  66  88]\n",
      " [275 495 715 935]] \n",
      "\n",
      " SOUSTRACTION : \n",
      "[[ -18  -36  -54  -72]\n",
      " [-225 -405 -585 -765]] \n",
      "\n",
      " DIVISION : \n",
      "[[0.1 0.1 0.1 0.1]\n",
      " [0.1 0.1 0.1 0.1]] \n",
      "\n",
      " MULTIPLICATION \n",
      " [[   40   160   360   640]\n",
      " [ 6250 20250 42250 72250]]\n"
     ]
    }
   ],
   "source": [
    "import numpy as np\n",
    "\n",
    "a=np.array ([\n",
    "    [2,4,6,8],\n",
    "    [25,45,65,85]\n",
    "])\n",
    "\n",
    "b=np.array ([\n",
    "    [20,40,60,80],\n",
    "    [250,450,650,850]\n",
    "])\n",
    "\n",
    "print (f\"ADDITION : \\n{a+b} \\n\\n SOUSTRACTION : \\n{a-b} \\n\\n DIVISION : \\n{a/b} \\n\\n MULTIPLICATION \\n {a*b}\")"
   ]
  },
  {
   "cell_type": "markdown",
   "id": "c933d758-4776-4733-9a51-e71c77d716f5",
   "metadata": {},
   "source": [
    "MANIPULATION DES DONNEES"
   ]
  },
  {
   "cell_type": "code",
   "execution_count": 26,
   "id": "29bc694a-62f7-4c09-8c1e-7883dfac6933",
   "metadata": {},
   "outputs": [
    {
     "data": {
      "text/plain": [
       "{'Matricule': '2022020132',\n",
       " 'Nom': 'TSHAKWANDA',\n",
       " 'prenom': 'OBED',\n",
       " 'Age': '21',\n",
       " 'GPA': 'A'}"
      ]
     },
     "execution_count": 26,
     "metadata": {},
     "output_type": "execute_result"
    }
   ],
   "source": [
    "#création d'un dictionnaire\n",
    "Info_Etudiants={\n",
    "    'Matricule': '2022020132',\n",
    "    'Nom':'TSHAKWANDA',\n",
    "    'prenom':'OBED',\n",
    "    'Age':'21',\n",
    "    'GPA':'A'\n",
    "}\n",
    "\n",
    "Info_Etudiants"
   ]
  },
  {
   "cell_type": "code",
   "execution_count": 28,
   "id": "a8a4d51e-9dc7-4afd-ab47-a0c37b73d88f",
   "metadata": {},
   "outputs": [
    {
     "data": {
      "text/plain": [
       "{'Matricule': ['2022020132',\n",
       "  '2022020501',\n",
       "  '202202035',\n",
       "  '202202064',\n",
       "  '2022020135',\n",
       "  '202202068',\n",
       "  '202202096',\n",
       "  '2022202007',\n",
       "  '2022020810',\n",
       "  '202202068'],\n",
       " 'Nom': ['TSHAKWANDA',\n",
       "  'KALOKO',\n",
       "  'KITENGE',\n",
       "  'KALUWE',\n",
       "  'ILUNGA',\n",
       "  'KALONJI',\n",
       "  'FEZA',\n",
       "  'NKULU',\n",
       "  'KABONGO',\n",
       "  'MULAND'],\n",
       " 'prenom': ['OBED',\n",
       "  'CHARLY',\n",
       "  'ALEKA',\n",
       "  'BENFILS',\n",
       "  'CHARLLY',\n",
       "  'DJANEL',\n",
       "  'CHRIS',\n",
       "  'DEBORAH',\n",
       "  'KETTIA',\n",
       "  'CERTIO'],\n",
       " 'Age': ['21', '19', '13', '42', '35', '26', '19', '22', '24', '35'],\n",
       " 'GPA': ['A', 'A', 'A', 'A', 'A', 'A', 'A', 'A', 'A', 'A']}"
      ]
     },
     "execution_count": 28,
     "metadata": {},
     "output_type": "execute_result"
    }
   ],
   "source": [
    "Info_10_Etudiants={\n",
    "    'Matricule': ['2022020132','2022020501','202202035','202202064','2022020135',\n",
    "                 '202202068','202202096','2022202007','2022020810','202202068'],\n",
    "    'Nom':['TSHAKWANDA','KALOKO','KITENGE','KALUWE','ILUNGA',\n",
    "           'KALONJI','FEZA','NKULU','KABONGO','MULAND'],\n",
    "    'prenom':['OBED','CHARLY','ALEKA','BENFILS','CHARLLY','DJANEL','CHRIS','DEBORAH','KETTIA','CERTIO'],\n",
    "    'Age':['21','19','13','42','35','26','19','22','24','35'],\n",
    "    'GPA':['A','A','A','A','A','A','A','A','A','A']\n",
    "}\n",
    "\n",
    "Info_10_Etudiants"
   ]
  },
  {
   "cell_type": "code",
   "execution_count": 44,
   "id": "15682212-a50b-4160-8291-da1926876025",
   "metadata": {},
   "outputs": [
    {
     "data": {
      "text/html": [
       "<div>\n",
       "<style scoped>\n",
       "    .dataframe tbody tr th:only-of-type {\n",
       "        vertical-align: middle;\n",
       "    }\n",
       "\n",
       "    .dataframe tbody tr th {\n",
       "        vertical-align: top;\n",
       "    }\n",
       "\n",
       "    .dataframe thead th {\n",
       "        text-align: right;\n",
       "    }\n",
       "</style>\n",
       "<table border=\"1\" class=\"dataframe\">\n",
       "  <thead>\n",
       "    <tr style=\"text-align: right;\">\n",
       "      <th></th>\n",
       "      <th>Matricule</th>\n",
       "      <th>Nom</th>\n",
       "      <th>prenom</th>\n",
       "      <th>Age</th>\n",
       "      <th>GPA</th>\n",
       "    </tr>\n",
       "  </thead>\n",
       "  <tbody>\n",
       "    <tr>\n",
       "      <th>0</th>\n",
       "      <td>2022020132</td>\n",
       "      <td>TSHAKWANDA</td>\n",
       "      <td>OBED</td>\n",
       "      <td>21</td>\n",
       "      <td>A</td>\n",
       "    </tr>\n",
       "    <tr>\n",
       "      <th>1</th>\n",
       "      <td>2022020501</td>\n",
       "      <td>KALOKO</td>\n",
       "      <td>CHARLY</td>\n",
       "      <td>19</td>\n",
       "      <td>A</td>\n",
       "    </tr>\n",
       "    <tr>\n",
       "      <th>2</th>\n",
       "      <td>202202035</td>\n",
       "      <td>KITENGE</td>\n",
       "      <td>ALEKA</td>\n",
       "      <td>13</td>\n",
       "      <td>A</td>\n",
       "    </tr>\n",
       "    <tr>\n",
       "      <th>3</th>\n",
       "      <td>202202064</td>\n",
       "      <td>KALUWE</td>\n",
       "      <td>BENFILS</td>\n",
       "      <td>42</td>\n",
       "      <td>A</td>\n",
       "    </tr>\n",
       "    <tr>\n",
       "      <th>4</th>\n",
       "      <td>2022020135</td>\n",
       "      <td>ILUNGA</td>\n",
       "      <td>CHARLLY</td>\n",
       "      <td>35</td>\n",
       "      <td>A</td>\n",
       "    </tr>\n",
       "    <tr>\n",
       "      <th>5</th>\n",
       "      <td>202202068</td>\n",
       "      <td>KALONJI</td>\n",
       "      <td>DJANEL</td>\n",
       "      <td>26</td>\n",
       "      <td>A</td>\n",
       "    </tr>\n",
       "    <tr>\n",
       "      <th>6</th>\n",
       "      <td>202202096</td>\n",
       "      <td>FEZA</td>\n",
       "      <td>CHRIS</td>\n",
       "      <td>19</td>\n",
       "      <td>A</td>\n",
       "    </tr>\n",
       "    <tr>\n",
       "      <th>7</th>\n",
       "      <td>2022202007</td>\n",
       "      <td>NKULU</td>\n",
       "      <td>DEBORAH</td>\n",
       "      <td>22</td>\n",
       "      <td>A</td>\n",
       "    </tr>\n",
       "    <tr>\n",
       "      <th>8</th>\n",
       "      <td>2022020810</td>\n",
       "      <td>KABONGO</td>\n",
       "      <td>KETTIA</td>\n",
       "      <td>24</td>\n",
       "      <td>A</td>\n",
       "    </tr>\n",
       "    <tr>\n",
       "      <th>9</th>\n",
       "      <td>202202068</td>\n",
       "      <td>MULAND</td>\n",
       "      <td>CERTIO</td>\n",
       "      <td>35</td>\n",
       "      <td>A</td>\n",
       "    </tr>\n",
       "  </tbody>\n",
       "</table>\n",
       "</div>"
      ],
      "text/plain": [
       "    Matricule         Nom   prenom Age GPA\n",
       "0  2022020132  TSHAKWANDA     OBED  21   A\n",
       "1  2022020501      KALOKO   CHARLY  19   A\n",
       "2   202202035     KITENGE    ALEKA  13   A\n",
       "3   202202064      KALUWE  BENFILS  42   A\n",
       "4  2022020135      ILUNGA  CHARLLY  35   A\n",
       "5   202202068     KALONJI   DJANEL  26   A\n",
       "6   202202096        FEZA    CHRIS  19   A\n",
       "7  2022202007       NKULU  DEBORAH  22   A\n",
       "8  2022020810     KABONGO   KETTIA  24   A\n",
       "9   202202068      MULAND   CERTIO  35   A"
      ]
     },
     "execution_count": 44,
     "metadata": {},
     "output_type": "execute_result"
    }
   ],
   "source": [
    "import pandas as pd\n",
    "\n",
    "Info_10_Etudiants={\n",
    "    'Matricule': ['2022020132','2022020501','202202035','202202064','2022020135',\n",
    "                 '202202068','202202096','2022202007','2022020810','202202068'],\n",
    "    'Nom':['TSHAKWANDA','KALOKO','KITENGE','KALUWE','ILUNGA',\n",
    "           'KALONJI','FEZA','NKULU','KABONGO','MULAND'],\n",
    "    'prenom':['OBED','CHARLY','ALEKA','BENFILS','CHARLLY','DJANEL','CHRIS','DEBORAH','KETTIA','CERTIO'],\n",
    "    'Age':['21','19','13','42','35','26','19','22','24','35'],\n",
    "    'GPA':['A','A','A','A','A','A','A','A','A','A']\n",
    "}\n",
    "\n",
    "Données_étudiants =pd.DataFrame(Info_10_Etudiants)\n",
    "\n",
    "Données_étudiants"
   ]
  },
  {
   "cell_type": "code",
   "execution_count": 54,
   "id": "48057499-4bf8-4b1b-8892-e5852dd63777",
   "metadata": {},
   "outputs": [
    {
     "data": {
      "text/plain": [
       "0    2022020132\n",
       "1    2022020501\n",
       "2     202202035\n",
       "3     202202064\n",
       "4    2022020135\n",
       "5     202202068\n",
       "6     202202096\n",
       "7    2022202007\n",
       "8    2022020810\n",
       "9     202202068\n",
       "Name: Matricule, dtype: object"
      ]
     },
     "execution_count": 54,
     "metadata": {},
     "output_type": "execute_result"
    }
   ],
   "source": [
    "import pandas as pd\n",
    "\n",
    "Info_10_Etudiants={\n",
    "    'Matricule': ['2022020132','2022020501','202202035','202202064','2022020135',\n",
    "                 '202202068','202202096','2022202007','2022020810','202202068'],\n",
    "    'Nom':['TSHAKWANDA','KALOKO','KITENGE','KALUWE','ILUNGA',\n",
    "           'KALONJI','FEZA','NKULU','KABONGO','MULAND'],\n",
    "    'prenom':['OBED','CHARLY','ALEKA','BENFILS','CHARLLY','DJANEL','CHRIS','DEBORAH','KETTIA','CERTIO'],\n",
    "    'Age':['21','19','13','42','35','26','19','22','24','35'],\n",
    "    'GPA':['A','A','A','A','A','A','A','A','A','A']\n",
    "}\n",
    "\n",
    "Données_étudiants =pd.DataFrame(Info_10_Etudiants)\n",
    "\n",
    "Données_étudiants['Matricule']"
   ]
  },
  {
   "cell_type": "code",
   "execution_count": 68,
   "id": "fdfd5cf3-2382-4f39-b6ec-aab6e77e7dda",
   "metadata": {},
   "outputs": [
    {
     "ename": "TypeError",
     "evalue": "'DataFrame' object is not callable",
     "output_type": "error",
     "traceback": [
      "\u001b[1;31m---------------------------------------------------------------------------\u001b[0m",
      "\u001b[1;31mTypeError\u001b[0m                                 Traceback (most recent call last)",
      "Cell \u001b[1;32mIn[68], line 15\u001b[0m\n\u001b[0;32m      3\u001b[0m Info_10_Etudiants\u001b[38;5;241m=\u001b[39m{\n\u001b[0;32m      4\u001b[0m     \u001b[38;5;124m'\u001b[39m\u001b[38;5;124mMatricule\u001b[39m\u001b[38;5;124m'\u001b[39m: [\u001b[38;5;124m'\u001b[39m\u001b[38;5;124m2022020132\u001b[39m\u001b[38;5;124m'\u001b[39m,\u001b[38;5;124m'\u001b[39m\u001b[38;5;124m2022020501\u001b[39m\u001b[38;5;124m'\u001b[39m,\u001b[38;5;124m'\u001b[39m\u001b[38;5;124m202202035\u001b[39m\u001b[38;5;124m'\u001b[39m,\u001b[38;5;124m'\u001b[39m\u001b[38;5;124m202202064\u001b[39m\u001b[38;5;124m'\u001b[39m,\u001b[38;5;124m'\u001b[39m\u001b[38;5;124m2022020135\u001b[39m\u001b[38;5;124m'\u001b[39m,\n\u001b[0;32m      5\u001b[0m                  \u001b[38;5;124m'\u001b[39m\u001b[38;5;124m202202068\u001b[39m\u001b[38;5;124m'\u001b[39m,\u001b[38;5;124m'\u001b[39m\u001b[38;5;124m202202096\u001b[39m\u001b[38;5;124m'\u001b[39m,\u001b[38;5;124m'\u001b[39m\u001b[38;5;124m2022202007\u001b[39m\u001b[38;5;124m'\u001b[39m,\u001b[38;5;124m'\u001b[39m\u001b[38;5;124m2022020810\u001b[39m\u001b[38;5;124m'\u001b[39m,\u001b[38;5;124m'\u001b[39m\u001b[38;5;124m202202068\u001b[39m\u001b[38;5;124m'\u001b[39m],\n\u001b[1;32m   (...)\u001b[0m\n\u001b[0;32m     10\u001b[0m     \u001b[38;5;124m'\u001b[39m\u001b[38;5;124mGPA\u001b[39m\u001b[38;5;124m'\u001b[39m:[\u001b[38;5;124m'\u001b[39m\u001b[38;5;124mA\u001b[39m\u001b[38;5;124m'\u001b[39m,\u001b[38;5;124m'\u001b[39m\u001b[38;5;124mA\u001b[39m\u001b[38;5;124m'\u001b[39m,\u001b[38;5;124m'\u001b[39m\u001b[38;5;124mA\u001b[39m\u001b[38;5;124m'\u001b[39m,\u001b[38;5;124m'\u001b[39m\u001b[38;5;124mA\u001b[39m\u001b[38;5;124m'\u001b[39m,\u001b[38;5;124m'\u001b[39m\u001b[38;5;124mA\u001b[39m\u001b[38;5;124m'\u001b[39m,\u001b[38;5;124m'\u001b[39m\u001b[38;5;124mA\u001b[39m\u001b[38;5;124m'\u001b[39m,\u001b[38;5;124m'\u001b[39m\u001b[38;5;124mA\u001b[39m\u001b[38;5;124m'\u001b[39m,\u001b[38;5;124m'\u001b[39m\u001b[38;5;124mA\u001b[39m\u001b[38;5;124m'\u001b[39m,\u001b[38;5;124m'\u001b[39m\u001b[38;5;124mA\u001b[39m\u001b[38;5;124m'\u001b[39m,\u001b[38;5;124m'\u001b[39m\u001b[38;5;124mA\u001b[39m\u001b[38;5;124m'\u001b[39m]\n\u001b[0;32m     11\u001b[0m }\n\u001b[0;32m     13\u001b[0m Données_étudiants \u001b[38;5;241m=\u001b[39mpd\u001b[38;5;241m.\u001b[39mDataFrame(Info_10_Etudiants)\n\u001b[1;32m---> 15\u001b[0m Données_étudiants([[\u001b[38;5;124m'\u001b[39m\u001b[38;5;124mMatricule\u001b[39m\u001b[38;5;124m'\u001b[39m],[\u001b[38;5;124m'\u001b[39m\u001b[38;5;124mNom\u001b[39m\u001b[38;5;124m'\u001b[39m]])\n",
      "\u001b[1;31mTypeError\u001b[0m: 'DataFrame' object is not callable"
     ]
    }
   ],
   "source": [
    "import pandas as pd\n",
    "\n",
    "Info_10_Etudiants={\n",
    "    'Matricule': ['2022020132','2022020501','202202035','202202064','2022020135',\n",
    "                 '202202068','202202096','2022202007','2022020810','202202068'],\n",
    "    'Nom':['TSHAKWANDA','KALOKO','KITENGE','KALUWE','ILUNGA',\n",
    "           'KALONJI','FEZA','NKULU','KABONGO','MULAND'],\n",
    "    'prenom':['OBED','CHARLY','ALEKA','BENFILS','CHARLLY','DJANEL','CHRIS','DEBORAH','KETTIA','CERTIO'],\n",
    "    'Age':['21','19','13','42','35','26','19','22','24','35'],\n",
    "    'GPA':['A','A','A','A','A','A','A','A','A','A']\n",
    "}\n",
    "\n",
    "Données_étudiants =pd.DataFrame(Info_10_Etudiants)\n",
    "\n",
    "Données_étudiants[['Matricule'],['Nom']]"
   ]
  },
  {
   "cell_type": "code",
   "execution_count": 56,
   "id": "9ef83c7b-f7da-4ea7-a7a6-09f3728e09aa",
   "metadata": {},
   "outputs": [
    {
     "data": {
      "text/html": [
       "<div>\n",
       "<style scoped>\n",
       "    .dataframe tbody tr th:only-of-type {\n",
       "        vertical-align: middle;\n",
       "    }\n",
       "\n",
       "    .dataframe tbody tr th {\n",
       "        vertical-align: top;\n",
       "    }\n",
       "\n",
       "    .dataframe thead th {\n",
       "        text-align: right;\n",
       "    }\n",
       "</style>\n",
       "<table border=\"1\" class=\"dataframe\">\n",
       "  <thead>\n",
       "    <tr style=\"text-align: right;\">\n",
       "      <th></th>\n",
       "      <th>Matricule</th>\n",
       "      <th>Nom</th>\n",
       "      <th>prenom</th>\n",
       "      <th>Age</th>\n",
       "      <th>GPA</th>\n",
       "    </tr>\n",
       "  </thead>\n",
       "  <tbody>\n",
       "    <tr>\n",
       "      <th>0</th>\n",
       "      <td>2022020132</td>\n",
       "      <td>TSHAKWANDA</td>\n",
       "      <td>OBED</td>\n",
       "      <td>21</td>\n",
       "      <td>A</td>\n",
       "    </tr>\n",
       "    <tr>\n",
       "      <th>1</th>\n",
       "      <td>2022020501</td>\n",
       "      <td>KALOKO</td>\n",
       "      <td>CHARLY</td>\n",
       "      <td>19</td>\n",
       "      <td>A</td>\n",
       "    </tr>\n",
       "    <tr>\n",
       "      <th>2</th>\n",
       "      <td>202202035</td>\n",
       "      <td>KITENGE</td>\n",
       "      <td>ALEKA</td>\n",
       "      <td>13</td>\n",
       "      <td>A</td>\n",
       "    </tr>\n",
       "    <tr>\n",
       "      <th>3</th>\n",
       "      <td>202202064</td>\n",
       "      <td>KALUWE</td>\n",
       "      <td>BENFILS</td>\n",
       "      <td>42</td>\n",
       "      <td>A</td>\n",
       "    </tr>\n",
       "    <tr>\n",
       "      <th>4</th>\n",
       "      <td>2022020135</td>\n",
       "      <td>ILUNGA</td>\n",
       "      <td>CHARLLY</td>\n",
       "      <td>35</td>\n",
       "      <td>A</td>\n",
       "    </tr>\n",
       "    <tr>\n",
       "      <th>5</th>\n",
       "      <td>202202068</td>\n",
       "      <td>KALONJI</td>\n",
       "      <td>DJANEL</td>\n",
       "      <td>26</td>\n",
       "      <td>A</td>\n",
       "    </tr>\n",
       "    <tr>\n",
       "      <th>6</th>\n",
       "      <td>202202096</td>\n",
       "      <td>FEZA</td>\n",
       "      <td>CHRIS</td>\n",
       "      <td>19</td>\n",
       "      <td>A</td>\n",
       "    </tr>\n",
       "    <tr>\n",
       "      <th>7</th>\n",
       "      <td>2022202007</td>\n",
       "      <td>NKULU</td>\n",
       "      <td>DEBORAH</td>\n",
       "      <td>22</td>\n",
       "      <td>A</td>\n",
       "    </tr>\n",
       "    <tr>\n",
       "      <th>8</th>\n",
       "      <td>2022020810</td>\n",
       "      <td>KABONGO</td>\n",
       "      <td>KETTIA</td>\n",
       "      <td>24</td>\n",
       "      <td>A</td>\n",
       "    </tr>\n",
       "    <tr>\n",
       "      <th>9</th>\n",
       "      <td>202202068</td>\n",
       "      <td>MULAND</td>\n",
       "      <td>CERTIO</td>\n",
       "      <td>35</td>\n",
       "      <td>A</td>\n",
       "    </tr>\n",
       "  </tbody>\n",
       "</table>\n",
       "</div>"
      ],
      "text/plain": [
       "    Matricule         Nom   prenom Age GPA\n",
       "0  2022020132  TSHAKWANDA     OBED  21   A\n",
       "1  2022020501      KALOKO   CHARLY  19   A\n",
       "2   202202035     KITENGE    ALEKA  13   A\n",
       "3   202202064      KALUWE  BENFILS  42   A\n",
       "4  2022020135      ILUNGA  CHARLLY  35   A\n",
       "5   202202068     KALONJI   DJANEL  26   A\n",
       "6   202202096        FEZA    CHRIS  19   A\n",
       "7  2022202007       NKULU  DEBORAH  22   A\n",
       "8  2022020810     KABONGO   KETTIA  24   A\n",
       "9   202202068      MULAND   CERTIO  35   A"
      ]
     },
     "execution_count": 56,
     "metadata": {},
     "output_type": "execute_result"
    }
   ],
   "source": [
    "import pandas as pd\n",
    "\n",
    "Info_10_Etudiants={\n",
    "    'Matricule': ['2022020132','2022020501','202202035','202202064','2022020135',\n",
    "                 '202202068','202202096','2022202007','2022020810','202202068'],\n",
    "    'Nom':['TSHAKWANDA','KALOKO','KITENGE','KALUWE','ILUNGA',\n",
    "           'KALONJI','FEZA','NKULU','KABONGO','MULAND'],\n",
    "    'prenom':['OBED','CHARLY','ALEKA','BENFILS','CHARLLY','DJANEL','CHRIS','DEBORAH','KETTIA','CERTIO'],\n",
    "    'Age':['21','19','13','42','35','26','19','22','24','35'],\n",
    "    'GPA':['A','A','A','A','A','A','A','A','A','A']\n",
    "}\n",
    "\n",
    "Données_étudiants =pd.DataFrame(Info_10_Etudiants)\n",
    "\n",
    "Données_étudiants.iloc[:,:]"
   ]
  },
  {
   "cell_type": "code",
   "execution_count": 74,
   "id": "902a2c20-d765-40cc-a800-c604daa656fe",
   "metadata": {},
   "outputs": [
    {
     "data": {
      "text/html": [
       "<div>\n",
       "<style scoped>\n",
       "    .dataframe tbody tr th:only-of-type {\n",
       "        vertical-align: middle;\n",
       "    }\n",
       "\n",
       "    .dataframe tbody tr th {\n",
       "        vertical-align: top;\n",
       "    }\n",
       "\n",
       "    .dataframe thead th {\n",
       "        text-align: right;\n",
       "    }\n",
       "</style>\n",
       "<table border=\"1\" class=\"dataframe\">\n",
       "  <thead>\n",
       "    <tr style=\"text-align: right;\">\n",
       "      <th></th>\n",
       "      <th>Nom</th>\n",
       "    </tr>\n",
       "  </thead>\n",
       "  <tbody>\n",
       "    <tr>\n",
       "      <th>1</th>\n",
       "      <td>KALOKO</td>\n",
       "    </tr>\n",
       "  </tbody>\n",
       "</table>\n",
       "</div>"
      ],
      "text/plain": [
       "      Nom\n",
       "1  KALOKO"
      ]
     },
     "execution_count": 74,
     "metadata": {},
     "output_type": "execute_result"
    }
   ],
   "source": [
    "import pandas as pd\n",
    "\n",
    "Info_10_Etudiants={\n",
    "    'Matricule': ['2022020132','2022020501','202202035','202202064','2022020135',\n",
    "                 '202202068','202202096','2022202007','2022020810','202202068'],\n",
    "    'Nom':['TSHAKWANDA','KALOKO','KITENGE','KALUWE','ILUNGA',\n",
    "           'KALONJI','FEZA','NKULU','KABONGO','MULAND'],\n",
    "    'prenom':['OBED','CHARLY','ALEKA','BENFILS','CHARLLY','DJANEL','CHRIS','DEBORAH','KETTIA','CERTIO'],\n",
    "    'Age':['21','19','13','42','35','26','19','22','24','35'],\n",
    "    'GPA':['A','A','A','A','A','A','A','A','A','A']\n",
    "}\n",
    "\n",
    "Données_étudiants =pd.DataFrame(Info_10_Etudiants)\n",
    "\n",
    "Données_étudiants.iloc[1:2,1:2]"
   ]
  },
  {
   "cell_type": "code",
   "execution_count": 80,
   "id": "fb4339b0-06a9-4c98-a413-0f4ffe2d7176",
   "metadata": {},
   "outputs": [
    {
     "data": {
      "text/html": [
       "<div>\n",
       "<style scoped>\n",
       "    .dataframe tbody tr th:only-of-type {\n",
       "        vertical-align: middle;\n",
       "    }\n",
       "\n",
       "    .dataframe tbody tr th {\n",
       "        vertical-align: top;\n",
       "    }\n",
       "\n",
       "    .dataframe thead th {\n",
       "        text-align: right;\n",
       "    }\n",
       "</style>\n",
       "<table border=\"1\" class=\"dataframe\">\n",
       "  <thead>\n",
       "    <tr style=\"text-align: right;\">\n",
       "      <th></th>\n",
       "      <th>Matricule</th>\n",
       "      <th>Nom</th>\n",
       "      <th>prenom</th>\n",
       "      <th>Age</th>\n",
       "      <th>GPA</th>\n",
       "      <th>Genre</th>\n",
       "      <th>Pourcentage</th>\n",
       "    </tr>\n",
       "  </thead>\n",
       "  <tbody>\n",
       "    <tr>\n",
       "      <th>0</th>\n",
       "      <td>2022020132</td>\n",
       "      <td>TSHAKWANDA</td>\n",
       "      <td>OBED</td>\n",
       "      <td>21</td>\n",
       "      <td>A</td>\n",
       "      <td>M</td>\n",
       "      <td>98</td>\n",
       "    </tr>\n",
       "    <tr>\n",
       "      <th>1</th>\n",
       "      <td>2022020501</td>\n",
       "      <td>KALOKO</td>\n",
       "      <td>CHARLY</td>\n",
       "      <td>19</td>\n",
       "      <td>A</td>\n",
       "      <td>M</td>\n",
       "      <td>85</td>\n",
       "    </tr>\n",
       "    <tr>\n",
       "      <th>2</th>\n",
       "      <td>202202035</td>\n",
       "      <td>KITENGE</td>\n",
       "      <td>ALEKA</td>\n",
       "      <td>13</td>\n",
       "      <td>A</td>\n",
       "      <td>M</td>\n",
       "      <td>82</td>\n",
       "    </tr>\n",
       "    <tr>\n",
       "      <th>3</th>\n",
       "      <td>202202064</td>\n",
       "      <td>KALUWE</td>\n",
       "      <td>BENFILS</td>\n",
       "      <td>42</td>\n",
       "      <td>A</td>\n",
       "      <td>M</td>\n",
       "      <td>89</td>\n",
       "    </tr>\n",
       "    <tr>\n",
       "      <th>4</th>\n",
       "      <td>2022020135</td>\n",
       "      <td>ILUNGA</td>\n",
       "      <td>CHARLLY</td>\n",
       "      <td>35</td>\n",
       "      <td>A</td>\n",
       "      <td>M</td>\n",
       "      <td>80</td>\n",
       "    </tr>\n",
       "    <tr>\n",
       "      <th>5</th>\n",
       "      <td>202202068</td>\n",
       "      <td>KALONJI</td>\n",
       "      <td>DJANEL</td>\n",
       "      <td>26</td>\n",
       "      <td>A</td>\n",
       "      <td>M</td>\n",
       "      <td>95</td>\n",
       "    </tr>\n",
       "    <tr>\n",
       "      <th>6</th>\n",
       "      <td>202202096</td>\n",
       "      <td>FEZA</td>\n",
       "      <td>CHRIS</td>\n",
       "      <td>19</td>\n",
       "      <td>A</td>\n",
       "      <td>F</td>\n",
       "      <td>93</td>\n",
       "    </tr>\n",
       "    <tr>\n",
       "      <th>7</th>\n",
       "      <td>2022202007</td>\n",
       "      <td>NKULU</td>\n",
       "      <td>DEBORAH</td>\n",
       "      <td>22</td>\n",
       "      <td>A</td>\n",
       "      <td>F</td>\n",
       "      <td>87</td>\n",
       "    </tr>\n",
       "    <tr>\n",
       "      <th>8</th>\n",
       "      <td>2022020810</td>\n",
       "      <td>KABONGO</td>\n",
       "      <td>KETTIA</td>\n",
       "      <td>24</td>\n",
       "      <td>A</td>\n",
       "      <td>F</td>\n",
       "      <td>85</td>\n",
       "    </tr>\n",
       "    <tr>\n",
       "      <th>9</th>\n",
       "      <td>202202068</td>\n",
       "      <td>MULAND</td>\n",
       "      <td>CERTIO</td>\n",
       "      <td>35</td>\n",
       "      <td>A</td>\n",
       "      <td>M</td>\n",
       "      <td>96</td>\n",
       "    </tr>\n",
       "  </tbody>\n",
       "</table>\n",
       "</div>"
      ],
      "text/plain": [
       "    Matricule         Nom   prenom Age GPA Genre Pourcentage\n",
       "0  2022020132  TSHAKWANDA     OBED  21   A     M          98\n",
       "1  2022020501      KALOKO   CHARLY  19   A     M          85\n",
       "2   202202035     KITENGE    ALEKA  13   A     M          82\n",
       "3   202202064      KALUWE  BENFILS  42   A     M          89\n",
       "4  2022020135      ILUNGA  CHARLLY  35   A     M          80\n",
       "5   202202068     KALONJI   DJANEL  26   A     M          95\n",
       "6   202202096        FEZA    CHRIS  19   A     F          93\n",
       "7  2022202007       NKULU  DEBORAH  22   A     F          87\n",
       "8  2022020810     KABONGO   KETTIA  24   A     F          85\n",
       "9   202202068      MULAND   CERTIO  35   A     M          96"
      ]
     },
     "execution_count": 80,
     "metadata": {},
     "output_type": "execute_result"
    }
   ],
   "source": [
    "import pandas as pd\n",
    "\n",
    "Info_10_Etudiants={\n",
    "    'Matricule': ['2022020132','2022020501','202202035','202202064','2022020135',\n",
    "                 '202202068','202202096','2022202007','2022020810','202202068'],\n",
    "    'Nom':['TSHAKWANDA','KALOKO','KITENGE','KALUWE','ILUNGA',\n",
    "           'KALONJI','FEZA','NKULU','KABONGO','MULAND'],\n",
    "    'prenom':['OBED','CHARLY','ALEKA','BENFILS','CHARLLY','DJANEL','CHRIS','DEBORAH','KETTIA','CERTIO'],\n",
    "    'Age':['21','19','13','42','35','26','19','22','24','35'],\n",
    "    'GPA':['A','A','A','A','A','A','A','A','A','A']\n",
    "}\n",
    "\n",
    "Données_étudiants =pd.DataFrame(Info_10_Etudiants)\n",
    "\n",
    "Données_étudiants['Genre']=['M','M','M','M','M','M','F','F','F','M']\n",
    "Données_étudiants['Pourcentage']=['98','85','82','89','80','95','93','87','85','96']\n",
    "Données_étudiants"
   ]
  },
  {
   "cell_type": "code",
   "execution_count": null,
   "id": "72c7b5c3-e88b-44d8-b1ca-f76d25307bb2",
   "metadata": {},
   "outputs": [],
   "source": [
    "import pandas as pd\n",
    "\n",
    "Info_10_Etudiants={\n",
    "    'Matricule': ['2022020132','2022020501','202202035','202202064','2022020135',\n",
    "                 '202202068','202202096','2022202007','2022020810','202202068'],\n",
    "    'Nom':['TSHAKWANDA','KALOKO','KITENGE','KALUWE','ILUNGA',\n",
    "           'KALONJI','FEZA','NKULU','KABONGO','MULAND'],\n",
    "    'prenom':['OBED','CHARLY','ALEKA','BENFILS','CHARLLY','DJANEL','CHRIS','DEBORAH','KETTIA','CERTIO'],\n",
    "    'Age':['21','19','13','42','35','26','19','22','24','35'],\n",
    "    'GPA':['A','A','A','A','A','A','A','A','A','A']\n",
    "}\n",
    "\n",
    "Données_étudiants =pd.DataFrame(Info_10_Etudiants)\n",
    "\n",
    "Données_étudiants['Genre']=['M','M','M','M','M','M','F','F','F','M']\n",
    "Données_étudiants['Pourcentage']=['98','85','82','89','80','95','93','87','85','96']\n",
    "Données_étudiants.drop(colums "
   ]
  }
 ],
 "metadata": {
  "kernelspec": {
   "display_name": "Python [conda env:base] *",
   "language": "python",
   "name": "conda-base-py"
  },
  "language_info": {
   "codemirror_mode": {
    "name": "ipython",
    "version": 3
   },
   "file_extension": ".py",
   "mimetype": "text/x-python",
   "name": "python",
   "nbconvert_exporter": "python",
   "pygments_lexer": "ipython3",
   "version": "3.12.7"
  },
  "panel-cell-order": [
   "4c2e41d4-9d32-4975-8aad-86a7640c26e8",
   "5a8d725c-e41c-49e8-97bd-d9c13c8ca48a",
   "16820f15-f338-4470-ba7a-0bc502a334dd",
   "e45f17db-7414-433d-a5f2-d1aa3a629685",
   "a06cb0fe-6c51-4a54-9a46-3336fd81f5ed",
   "7287e613-a93d-444b-8621-a5b3b8b4e606",
   "955fbf97-28af-4c84-be1c-307ce16ebf0f"
  ]
 },
 "nbformat": 4,
 "nbformat_minor": 5
}
