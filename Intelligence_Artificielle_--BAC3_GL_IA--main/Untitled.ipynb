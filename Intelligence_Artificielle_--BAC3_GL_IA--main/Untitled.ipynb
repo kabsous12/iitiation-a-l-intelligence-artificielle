{
 "cells": [
  {
   "cell_type": "code",
   "execution_count": 5,
   "id": "e8ef5102-1a76-48d3-babb-25e79ad4ff06",
   "metadata": {},
   "outputs": [],
   "source": [
    "import numpy as np\n"
   ]
  },
  {
   "cell_type": "code",
   "execution_count": 6,
   "id": "82b89e14-a8d4-4054-bc66-eaca18983d71",
   "metadata": {},
   "outputs": [],
   "source": [
    "tab_1D = np.array([2, 4, 6, 8, 10, 12, 14])"
   ]
  },
  {
   "cell_type": "code",
   "execution_count": 7,
   "id": "bb55b104-cebc-48a8-8f17-a27f9a12f2f7",
   "metadata": {},
   "outputs": [
    {
     "data": {
      "text/plain": [
       "array([ 2,  4,  6,  8, 10, 12, 14])"
      ]
     },
     "execution_count": 7,
     "metadata": {},
     "output_type": "execute_result"
    }
   ],
   "source": [
    "tab_1D"
   ]
  },
  {
   "cell_type": "code",
   "execution_count": null,
   "id": "21baba7b-4c2a-4b92-8c0c-2959b970ac0d",
   "metadata": {},
   "outputs": [],
   "source": []
  }
 ],
 "metadata": {
  "kernelspec": {
   "display_name": "Python [conda env:base] *",
   "language": "python",
   "name": "conda-base-py"
  },
  "language_info": {
   "codemirror_mode": {
    "name": "ipython",
    "version": 3
   },
   "file_extension": ".py",
   "mimetype": "text/x-python",
   "name": "python",
   "nbconvert_exporter": "python",
   "pygments_lexer": "ipython3",
   "version": "3.12.7"
  }
 },
 "nbformat": 4,
 "nbformat_minor": 5
}
